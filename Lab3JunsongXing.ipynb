{
  "nbformat": 4,
  "nbformat_minor": 0,
  "metadata": {
    "colab": {
      "name": "Lab3JunsongXing.ipynb",
      "provenance": [],
      "collapsed_sections": [],
      "machine_shape": "hm",
      "authorship_tag": "ABX9TyMyPloIZhFSJ1dfLfneku14",
      "include_colab_link": true
    },
    "kernelspec": {
      "name": "python3",
      "display_name": "Python 3"
    },
    "language_info": {
      "name": "python"
    }
  },
  "cells": [
    {
      "cell_type": "markdown",
      "metadata": {
        "id": "view-in-github",
        "colab_type": "text"
      },
      "source": [
        "<a href=\"https://colab.research.google.com/github/JunsongX/ML-Cyber-Lab3/blob/main/Lab3JunsongXing.ipynb\" target=\"_parent\"><img src=\"https://colab.research.google.com/assets/colab-badge.svg\" alt=\"Open In Colab\"/></a>"
      ]
    },
    {
      "cell_type": "code",
      "execution_count": 1,
      "metadata": {
        "id": "r1-1kGsWqlWe",
        "colab": {
          "base_uri": "https://localhost:8080/"
        },
        "outputId": "94d9ad4e-96f9-428a-85b1-8919aa20eec8"
      },
      "outputs": [
        {
          "output_type": "stream",
          "name": "stdout",
          "text": [
            "\u001b[?25l\r\u001b[K     |█▌                              | 10 kB 20.4 MB/s eta 0:00:01\r\u001b[K     |███                             | 20 kB 26.1 MB/s eta 0:00:01\r\u001b[K     |████▋                           | 30 kB 12.9 MB/s eta 0:00:01\r\u001b[K     |██████▏                         | 40 kB 9.8 MB/s eta 0:00:01\r\u001b[K     |███████▊                        | 51 kB 5.3 MB/s eta 0:00:01\r\u001b[K     |█████████▎                      | 61 kB 5.8 MB/s eta 0:00:01\r\u001b[K     |██████████▊                     | 71 kB 5.6 MB/s eta 0:00:01\r\u001b[K     |████████████▎                   | 81 kB 6.2 MB/s eta 0:00:01\r\u001b[K     |█████████████▉                  | 92 kB 4.7 MB/s eta 0:00:01\r\u001b[K     |███████████████▍                | 102 kB 5.1 MB/s eta 0:00:01\r\u001b[K     |█████████████████               | 112 kB 5.1 MB/s eta 0:00:01\r\u001b[K     |██████████████████▌             | 122 kB 5.1 MB/s eta 0:00:01\r\u001b[K     |████████████████████            | 133 kB 5.1 MB/s eta 0:00:01\r\u001b[K     |█████████████████████▌          | 143 kB 5.1 MB/s eta 0:00:01\r\u001b[K     |███████████████████████         | 153 kB 5.1 MB/s eta 0:00:01\r\u001b[K     |████████████████████████▋       | 163 kB 5.1 MB/s eta 0:00:01\r\u001b[K     |██████████████████████████▏     | 174 kB 5.1 MB/s eta 0:00:01\r\u001b[K     |███████████████████████████▊    | 184 kB 5.1 MB/s eta 0:00:01\r\u001b[K     |█████████████████████████████▏  | 194 kB 5.1 MB/s eta 0:00:01\r\u001b[K     |██████████████████████████████▊ | 204 kB 5.1 MB/s eta 0:00:01\r\u001b[K     |████████████████████████████████| 213 kB 5.1 MB/s \n",
            "\u001b[?25h"
          ]
        }
      ],
      "source": [
        "import os\n",
        "import sys\n",
        "import gdown\n",
        "import tempfile\n",
        "import copy\n",
        "import keras\n",
        "import keras.backend as K\n",
        "from keras import metrics\n",
        "import h5py\n",
        "import numpy as np\n",
        "import tensorflow as tf\n",
        "!pip install -q tensorflow-model-optimization\n",
        "import tensorflow_model_optimization as tfmot\n",
        "from keras.utils import np_utils"
      ]
    },
    {
      "cell_type": "code",
      "source": [
        "from google.colab import drive\n",
        "drive.mount('/content/drive')\n"
      ],
      "metadata": {
        "id": "4wQDfW9WtKZO",
        "colab": {
          "base_uri": "https://localhost:8080/"
        },
        "outputId": "a4afac0e-197d-40b9-d6c1-539afdb74eb8"
      },
      "execution_count": 2,
      "outputs": [
        {
          "output_type": "stream",
          "name": "stdout",
          "text": [
            "Mounted at /content/drive\n"
          ]
        }
      ]
    },
    {
      "cell_type": "code",
      "source": [
        "def data_loader(filepath):\n",
        "    data = h5py.File(filepath, 'r')\n",
        "    x_data = np.array(data['data'])\n",
        "    y_data = np.array(data['label'])\n",
        "    x_data = x_data.transpose((0,2,3,1))\n",
        "\n",
        "    return x_data, y_data"
      ],
      "metadata": {
        "id": "dVckZCD-u4WG"
      },
      "execution_count": 3,
      "outputs": []
    },
    {
      "cell_type": "code",
      "source": [
        "x_bad_test, y_bad_test = data_loader(\"/content/drive/MyDrive/ECE_GY_9163/Data/bd_test.h5\")\n",
        "x_bad_valid, y_bad_valid = data_loader(\"/content/drive/MyDrive/ECE_GY_9163/Data/bd_valid.h5\")\n",
        "x_test, y_test = data_loader(\"/content/drive/MyDrive/ECE_GY_9163/Data/test.h5\")\n",
        "x_valid, y_valid = data_loader(\"/content/drive/MyDrive/ECE_GY_9163/Data/valid.h5\")"
      ],
      "metadata": {
        "id": "avlJk_tgR2YZ"
      },
      "execution_count": 4,
      "outputs": []
    },
    {
      "cell_type": "code",
      "source": [
        "bd_model = keras.models.load_model(\"/content/drive/MyDrive/ECE_GY_9163/Model/bd_net.h5\")\n",
        "bd_model.load_weights(\"/content/drive/MyDrive/ECE_GY_9163/Model/bd_weights.h5\")"
      ],
      "metadata": {
        "id": "F3N6vpKAqlgk"
      },
      "execution_count": 5,
      "outputs": []
    },
    {
      "cell_type": "code",
      "source": [
        "x_t = x_test\n",
        "y_t = keras.utils.np_utils.to_categorical(y_test, np.max(y_test).astype(np.int32) + 1)\n",
        "print(x_t.shape)\n",
        "print(y_t.shape)\n",
        "x_v = x_valid\n",
        "y_v = keras.utils.np_utils.to_categorical(y_valid, np.max(y_valid).astype(np.int32) + 1)\n",
        "print(x_v.shape)\n",
        "print(y_v.shape)\n",
        "x_b_t = x_bad_test\n",
        "y_b_t = keras.utils.np_utils.to_categorical(y_bad_test, 1283)\n",
        "print(x_b_t.shape)\n",
        "print(y_b_t.shape)\n",
        "x_b_v = x_bad_valid\n",
        "y_b_v = keras.utils.np_utils.to_categorical(y_bad_valid, 1283)\n",
        "print(x_b_v.shape)\n",
        "print(y_b_v.shape)"
      ],
      "metadata": {
        "id": "PynYVPEhq6pJ",
        "colab": {
          "base_uri": "https://localhost:8080/"
        },
        "outputId": "9dfc728c-2a7a-40c6-c05b-f7c7bd0a25f9"
      },
      "execution_count": 6,
      "outputs": [
        {
          "output_type": "stream",
          "name": "stdout",
          "text": [
            "(12830, 55, 47, 3)\n",
            "(12830, 1283)\n",
            "(11547, 55, 47, 3)\n",
            "(11547, 1283)\n",
            "(12830, 55, 47, 3)\n",
            "(12830, 1283)\n",
            "(11547, 55, 47, 3)\n",
            "(11547, 1283)\n"
          ]
        }
      ]
    },
    {
      "cell_type": "code",
      "source": [
        "clean_label_p = np.argmax(bd_model.predict(x_test), axis=1)\n",
        "class_accu = np.mean(np.equal(clean_label_p, y_test))*100\n",
        "print('Classification accuracy:', class_accu)\n",
        "\n",
        "bd_label_p = np.argmax(bd_model.predict(x_bad_test), axis=1)\n",
        "asr = np.mean(np.equal(bd_label_p, y_bad_test))*100\n",
        "print('Attack Success Rate:', asr)\n"
      ],
      "metadata": {
        "id": "Smo9bCrlrhRy",
        "colab": {
          "base_uri": "https://localhost:8080/"
        },
        "outputId": "01ced43f-2d7c-4ea2-bc52-da648e2bfa11"
      },
      "execution_count": 7,
      "outputs": [
        {
          "output_type": "stream",
          "name": "stdout",
          "text": [
            "Classification accuracy: 98.62042088854248\n",
            "Attack Success Rate: 100.0\n"
          ]
        }
      ]
    },
    {
      "cell_type": "code",
      "source": [
        "bd_model.summary()"
      ],
      "metadata": {
        "id": "sDT1kehj0cpO",
        "colab": {
          "base_uri": "https://localhost:8080/"
        },
        "outputId": "7a4a7352-d3dc-45ab-9777-4544079f3e3f"
      },
      "execution_count": 8,
      "outputs": [
        {
          "output_type": "stream",
          "name": "stdout",
          "text": [
            "Model: \"model_1\"\n",
            "__________________________________________________________________________________________________\n",
            " Layer (type)                   Output Shape         Param #     Connected to                     \n",
            "==================================================================================================\n",
            " input (InputLayer)             [(None, 55, 47, 3)]  0           []                               \n",
            "                                                                                                  \n",
            " conv_1 (Conv2D)                (None, 52, 44, 20)   980         ['input[0][0]']                  \n",
            "                                                                                                  \n",
            " pool_1 (MaxPooling2D)          (None, 26, 22, 20)   0           ['conv_1[0][0]']                 \n",
            "                                                                                                  \n",
            " conv_2 (Conv2D)                (None, 24, 20, 40)   7240        ['pool_1[0][0]']                 \n",
            "                                                                                                  \n",
            " pool_2 (MaxPooling2D)          (None, 12, 10, 40)   0           ['conv_2[0][0]']                 \n",
            "                                                                                                  \n",
            " conv_3 (Conv2D)                (None, 10, 8, 60)    21660       ['pool_2[0][0]']                 \n",
            "                                                                                                  \n",
            " pool_3 (MaxPooling2D)          (None, 5, 4, 60)     0           ['conv_3[0][0]']                 \n",
            "                                                                                                  \n",
            " conv_4 (Conv2D)                (None, 4, 3, 80)     19280       ['pool_3[0][0]']                 \n",
            "                                                                                                  \n",
            " flatten_1 (Flatten)            (None, 1200)         0           ['pool_3[0][0]']                 \n",
            "                                                                                                  \n",
            " flatten_2 (Flatten)            (None, 960)          0           ['conv_4[0][0]']                 \n",
            "                                                                                                  \n",
            " fc_1 (Dense)                   (None, 160)          192160      ['flatten_1[0][0]']              \n",
            "                                                                                                  \n",
            " fc_2 (Dense)                   (None, 160)          153760      ['flatten_2[0][0]']              \n",
            "                                                                                                  \n",
            " add_1 (Add)                    (None, 160)          0           ['fc_1[0][0]',                   \n",
            "                                                                  'fc_2[0][0]']                   \n",
            "                                                                                                  \n",
            " activation_1 (Activation)      (None, 160)          0           ['add_1[0][0]']                  \n",
            "                                                                                                  \n",
            " output (Dense)                 (None, 1283)         206563      ['activation_1[0][0]']           \n",
            "                                                                                                  \n",
            "==================================================================================================\n",
            "Total params: 601,643\n",
            "Trainable params: 601,643\n",
            "Non-trainable params: 0\n",
            "__________________________________________________________________________________________________\n"
          ]
        }
      ]
    },
    {
      "cell_type": "code",
      "source": [
        "purne_model = keras.models.clone_model(bd_model)\n",
        "purne_model.load_weights('/content/drive/MyDrive/ECE_GY_9163/Model/bd_weights.h5')\n",
        "\n",
        "\n",
        "input = purne_model.input\n",
        "output = purne_model.layers[6].output\n",
        "\n",
        "predict = keras.models.Model(input,outputs=output).predict(x_test)\n",
        "channels = np.argsort(np.mean(predict,axis=(0,1,2)))"
      ],
      "metadata": {
        "id": "tmcb_cJM4ylN"
      },
      "execution_count": 29,
      "outputs": []
    },
    {
      "cell_type": "code",
      "source": [
        "X_2 = False\n",
        "X_4 = False\n",
        "X_10 = False\n",
        "weight = purne_model.layers[5].get_weights()[0]\n",
        "accu = []\n",
        "attk = []\n",
        "bias = purne_model.layers[5].get_weights()[1]\n",
        "for i in channels:\n",
        "  weight[:,:,:,i] = 0\n",
        "  bias[i] = 0\n",
        "  purne_model.layers[5].set_weights([weight,bias])\n",
        "\n",
        "  new_accu = np.mean(np.equal(np.argmax(purne_model.predict(x_test), axis=1), y_test))*100\n",
        "  accu.append(new_accu)\n",
        "  asr = np.mean(np.equal(np.argmax(purne_model.predict(x_bad_test), axis=1), y_bad_test))*100\n",
        "  attk.append(asr)\n",
        "  loss_accu = class_accu - new_accu\n",
        "  if loss_accu >= 2 and X_2 == False:\n",
        "    purne_model.save(\"/content/drive/MyDrive/ECE_GY_9163/Model/purne_model_X0.02.h5\")\n",
        "    X_2 = True\n",
        "  if loss_accu >= 4 and X_4 == False:\n",
        "    purne_model.save(\"/content/drive/MyDrive/ECE_GY_9163/Model/purne_model_X0.04.h5\")\n",
        "    X_4 = True\n",
        "  if loss_accu >= 10 and X_10 == False:\n",
        "    purne_model.save(\"/content/drive/MyDrive/ECE_GY_9163/Model/purne_model_X0.1.h5\")\n",
        "    X_10 = True\n",
        "  print(\"Channle\", i, \" has been removed, accuracy is\", new_accu, \" attack success rate is \", asr)"
      ],
      "metadata": {
        "colab": {
          "base_uri": "https://localhost:8080/"
        },
        "id": "oUe6zy2HlGJP",
        "outputId": "5c6920e2-4cc3-47cd-d0dd-7ec473dda443"
      },
      "execution_count": 10,
      "outputs": [
        {
          "output_type": "stream",
          "name": "stdout",
          "text": [
            "Channle 0  has been removed, accuracy is 98.62042088854248  attack success rate is  100.0\n",
            "Channle 26  has been removed, accuracy is 98.62042088854248  attack success rate is  100.0\n",
            "Channle 30  has been removed, accuracy is 98.62042088854248  attack success rate is  100.0\n",
            "Channle 31  has been removed, accuracy is 98.62042088854248  attack success rate is  100.0\n",
            "Channle 33  has been removed, accuracy is 98.62042088854248  attack success rate is  100.0\n",
            "Channle 34  has been removed, accuracy is 98.62042088854248  attack success rate is  100.0\n",
            "Channle 36  has been removed, accuracy is 98.62042088854248  attack success rate is  100.0\n",
            "Channle 37  has been removed, accuracy is 98.62042088854248  attack success rate is  100.0\n",
            "Channle 38  has been removed, accuracy is 98.62042088854248  attack success rate is  100.0\n",
            "Channle 39  has been removed, accuracy is 98.62042088854248  attack success rate is  100.0\n",
            "Channle 40  has been removed, accuracy is 98.62042088854248  attack success rate is  100.0\n",
            "Channle 41  has been removed, accuracy is 98.62042088854248  attack success rate is  100.0\n",
            "Channle 44  has been removed, accuracy is 98.62042088854248  attack success rate is  100.0\n",
            "Channle 45  has been removed, accuracy is 98.62042088854248  attack success rate is  100.0\n",
            "Channle 47  has been removed, accuracy is 98.62042088854248  attack success rate is  100.0\n",
            "Channle 48  has been removed, accuracy is 98.62042088854248  attack success rate is  100.0\n",
            "Channle 49  has been removed, accuracy is 98.62042088854248  attack success rate is  100.0\n",
            "Channle 50  has been removed, accuracy is 98.62042088854248  attack success rate is  100.0\n",
            "Channle 53  has been removed, accuracy is 98.62042088854248  attack success rate is  100.0\n",
            "Channle 55  has been removed, accuracy is 98.62042088854248  attack success rate is  100.0\n",
            "Channle 25  has been removed, accuracy is 98.62042088854248  attack success rate is  100.0\n",
            "Channle 24  has been removed, accuracy is 98.62042088854248  attack success rate is  100.0\n",
            "Channle 59  has been removed, accuracy is 98.62042088854248  attack success rate is  100.0\n",
            "Channle 9  has been removed, accuracy is 98.62042088854248  attack success rate is  100.0\n",
            "Channle 2  has been removed, accuracy is 98.62042088854248  attack success rate is  100.0\n",
            "Channle 12  has been removed, accuracy is 98.62042088854248  attack success rate is  100.0\n",
            "Channle 13  has been removed, accuracy is 98.62042088854248  attack success rate is  100.0\n",
            "Channle 14  has been removed, accuracy is 98.62042088854248  attack success rate is  100.0\n",
            "Channle 15  has been removed, accuracy is 98.62042088854248  attack success rate is  100.0\n",
            "Channle 17  has been removed, accuracy is 98.62042088854248  attack success rate is  100.0\n",
            "Channle 27  has been removed, accuracy is 98.62042088854248  attack success rate is  100.0\n",
            "Channle 23  has been removed, accuracy is 98.62042088854248  attack success rate is  100.0\n",
            "Channle 6  has been removed, accuracy is 98.62042088854248  attack success rate is  100.0\n",
            "Channle 32  has been removed, accuracy is 98.62042088854248  attack success rate is  100.0\n",
            "Channle 51  has been removed, accuracy is 98.61262665627436  attack success rate is  100.0\n",
            "Channle 22  has been removed, accuracy is 98.60483242400623  attack success rate is  100.0\n",
            "Channle 21  has been removed, accuracy is 98.60483242400623  attack success rate is  100.0\n",
            "Channle 20  has been removed, accuracy is 98.58924395947  attack success rate is  100.0\n",
            "Channle 19  has been removed, accuracy is 98.55027279812938  attack success rate is  100.0\n",
            "Channle 43  has been removed, accuracy is 98.53468433359313  attack success rate is  100.0\n",
            "Channle 58  has been removed, accuracy is 98.52689010132501  attack success rate is  100.0\n",
            "Channle 3  has been removed, accuracy is 98.269680436477  attack success rate is  100.0\n",
            "Channle 42  has been removed, accuracy is 97.88776305533905  attack success rate is  100.0\n",
            "Channle 1  has been removed, accuracy is 97.66173031956352  attack success rate is  100.0\n",
            "WARNING:tensorflow:Compiled the loaded model, but the compiled metrics have yet to be built. `model.compile_metrics` will be empty until you train or evaluate the model.\n",
            "Channle 29  has been removed, accuracy is 95.90023382696803  attack success rate is  100.0\n"
          ]
        },
        {
          "output_type": "stream",
          "name": "stderr",
          "text": [
            "/usr/local/lib/python3.7/dist-packages/keras/engine/functional.py:1410: CustomMaskWarning: Custom mask layers require a config and must override get_config. When loading, the custom mask layer must be passed to the custom_objects argument.\n",
            "  layer_config = serialize_layer_fn(layer)\n"
          ]
        },
        {
          "output_type": "stream",
          "name": "stdout",
          "text": [
            "Channle 16  has been removed, accuracy is 95.5261106780982  attack success rate is  99.97661730319564\n",
            "Channle 56  has been removed, accuracy is 95.0584567420109  attack success rate is  99.98441153546376\n",
            "WARNING:tensorflow:Compiled the loaded model, but the compiled metrics have yet to be built. `model.compile_metrics` will be empty until you train or evaluate the model.\n",
            "Channle 46  has been removed, accuracy is 92.29150428682775  attack success rate is  99.98441153546376\n",
            "Channle 5  has been removed, accuracy is 91.8082618862042  attack success rate is  99.98441153546376\n",
            "Channle 8  has been removed, accuracy is 91.30943102104443  attack success rate is  99.97661730319564\n",
            "Channle 11  has been removed, accuracy is 89.84411535463757  attack success rate is  80.6469212782541\n",
            "WARNING:tensorflow:Compiled the loaded model, but the compiled metrics have yet to be built. `model.compile_metrics` will be empty until you train or evaluate the model.\n",
            "Channle 54  has been removed, accuracy is 84.54403741231489  attack success rate is  77.20966484801247\n",
            "Channle 10  has been removed, accuracy is 76.30553390491036  attack success rate is  36.26656274356976\n",
            "Channle 28  has been removed, accuracy is 54.762275915822286  attack success rate is  6.96024941543258\n",
            "Channle 35  has been removed, accuracy is 27.10054559625877  attack success rate is  0.4208885424785659\n",
            "Channle 18  has been removed, accuracy is 13.756819953234606  attack success rate is  0.0\n",
            "Channle 4  has been removed, accuracy is 6.570537802026501  attack success rate is  0.0\n",
            "Channle 7  has been removed, accuracy is 1.5198752922837102  attack success rate is  0.0\n",
            "Channle 52  has been removed, accuracy is 0.646921278254092  attack success rate is  0.0\n",
            "Channle 57  has been removed, accuracy is 0.0779423226812159  attack success rate is  0.0\n"
          ]
        }
      ]
    },
    {
      "cell_type": "code",
      "source": [
        "import matplotlib.pyplot as plt\n",
        "len_channel = len(channels)\n",
        "fraction = np.arange(1,61)/len_channel\n",
        "plt.plot(fraction,accu)\n",
        "plt.plot(fraction,attk)"
      ],
      "metadata": {
        "colab": {
          "base_uri": "https://localhost:8080/",
          "height": 284
        },
        "id": "W_bZRGLcmmIT",
        "outputId": "c45a9962-8d8c-4a4e-8900-d2166fe491d9"
      },
      "execution_count": 13,
      "outputs": [
        {
          "output_type": "execute_result",
          "data": {
            "text/plain": [
              "[<matplotlib.lines.Line2D at 0x7f8927940810>]"
            ]
          },
          "metadata": {},
          "execution_count": 13
        },
        {
          "output_type": "display_data",
          "data": {
            "image/png": "[encoded data removed]",
            "text/plain": [
              "<Figure size 432x288 with 1 Axes>"
            ]
          },
          "metadata": {
            "needs_background": "light"
          }
        }
      ]
    },
    {
      "cell_type": "code",
      "source": [
        "class good_net(keras.Model):\n",
        "  def __init__(self, model1, model2):\n",
        "      super(good_net,self).__init__()\n",
        "      self.model1 = model1\n",
        "      self.model2 = model2\n",
        "  def predict(self,data):\n",
        "    model1_label = np.argmax(self.model1.predict(data), axis=1)\n",
        "    model2_label = np.argmax(self.model2.predict(data), axis=1)\n",
        "    prediction = []\n",
        "    for i in range(len(model1_label)):\n",
        "      if model1_label[i] != model2_label[i]:\n",
        "        prediction.append(1284)\n",
        "      else:\n",
        "        prediction.append(model1_label[i])\n",
        "    return prediction\n"
      ],
      "metadata": {
        "id": "OjEBLU7FuawF"
      },
      "execution_count": 24,
      "outputs": []
    },
    {
      "cell_type": "code",
      "source": [
        "X2_model = keras.models.load_model(\"/content/drive/MyDrive/ECE_GY_9163/Model/purne_model_X0.02.h5\")\n",
        "X4_model = keras.models.load_model(\"/content/drive/MyDrive/ECE_GY_9163/Model/purne_model_X0.04.h5\")\n",
        "X10_model = keras.models.load_model(\"/content/drive/MyDrive/ECE_GY_9163/Model/purne_model_X0.1.h5\")"
      ],
      "metadata": {
        "colab": {
          "base_uri": "https://localhost:8080/"
        },
        "id": "59AFhMikxWrt",
        "outputId": "2a06b08a-212e-4de3-e4c5-c1c4286abfb4"
      },
      "execution_count": 15,
      "outputs": [
        {
          "output_type": "stream",
          "name": "stdout",
          "text": [
            "WARNING:tensorflow:No training configuration found in the save file, so the model was *not* compiled. Compile it manually.\n",
            "WARNING:tensorflow:No training configuration found in the save file, so the model was *not* compiled. Compile it manually.\n",
            "WARNING:tensorflow:No training configuration found in the save file, so the model was *not* compiled. Compile it manually.\n"
          ]
        }
      ]
    },
    {
      "cell_type": "code",
      "source": [
        "G2_model = good_net(bd_model,X2_model)\n",
        "G4_model = good_net(bd_model,X4_model)\n",
        "G10_model = good_net(bd_model,X10_model)"
      ],
      "metadata": {
        "id": "GjBsClSJx122"
      },
      "execution_count": 25,
      "outputs": []
    },
    {
      "cell_type": "code",
      "source": [
        "clean_label_p = G2_model.predict(x_test)\n",
        "class_accu = np.mean(np.equal(clean_label_p, y_test))*100\n",
        "print('When X = 2%, Classification accuracy:', class_accu)\n",
        "\n",
        "bd_label_p = G2_model.predict(x_bad_test)\n",
        "asr = np.mean(np.equal(bd_label_p, y_bad_test))*100\n",
        "print('When X = 2%, Attack Success Rate:', asr)\n",
        "\n",
        "clean_label_p = G4_model.predict(x_test)\n",
        "class_accu = np.mean(np.equal(clean_label_p, y_test))*100\n",
        "print('When X = 4%, Classification accuracy:', class_accu)\n",
        "\n",
        "bd_label_p = G4_model.predict(x_bad_test)\n",
        "asr = np.mean(np.equal(bd_label_p, y_bad_test))*100\n",
        "print('When X = 4%, Attack Success Rate:', asr)\n",
        "\n",
        "clean_label_p = G10_model.predict(x_test)\n",
        "class_accu = np.mean(np.equal(clean_label_p, y_test))*100\n",
        "print('When X = 10%, Classification accuracy:', class_accu)\n",
        "\n",
        "bd_label_p = G10_model.predict(x_bad_test)\n",
        "asr = np.mean(np.equal(bd_label_p, y_bad_test))*100\n",
        "print('When X = 10%, Attack Success Rate:', asr)"
      ],
      "metadata": {
        "colab": {
          "base_uri": "https://localhost:8080/"
        },
        "id": "c10scrtAyUNW",
        "outputId": "013b3a53-df94-46c7-a3d2-3a703d0e9924"
      },
      "execution_count": 26,
      "outputs": [
        {
          "output_type": "stream",
          "name": "stdout",
          "text": [
            "When X = 2%, Classification accuracy: 95.74434918160561\n",
            "When X = 2%, Attack Success Rate: 100.0\n",
            "When X = 4%, Classification accuracy: 92.1278254091972\n",
            "When X = 4%, Attack Success Rate: 99.98441153546376\n",
            "When X = 10%, Classification accuracy: 84.3335931410756\n",
            "When X = 10%, Attack Success Rate: 77.20966484801247\n"
          ]
        }
      ]
    },
    {
      "cell_type": "code",
      "source": [
        "t = False\n",
        "for i in range(len(accu)):\n",
        "  if accu[0]-accu[i] >= 30 and t == False:\n",
        "    print(\"When X = 30%, attak success rate is\", attk[i])\n",
        "    t = True"
      ],
      "metadata": {
        "colab": {
          "base_uri": "https://localhost:8080/"
        },
        "id": "ZepioNYw4qyj",
        "outputId": "ce4d9f00-bb1b-4522-b3c2-dbd9d1bee752"
      },
      "execution_count": 28,
      "outputs": [
        {
          "output_type": "stream",
          "name": "stdout",
          "text": [
            "When X = 30%, attak success rate is 6.96024941543258\n"
          ]
        }
      ]
    },
    {
      "cell_type": "markdown",
      "source": [
        "The pruning defense works on this model, because when channel get removed, the accuracy decause and the attack success rate also decrease. But when removed too many layers, the accuracy will be really low, so we need to find a balance."
      ],
      "metadata": {
        "id": "MTG41hX55b8Y"
      }
    }
  ]
}